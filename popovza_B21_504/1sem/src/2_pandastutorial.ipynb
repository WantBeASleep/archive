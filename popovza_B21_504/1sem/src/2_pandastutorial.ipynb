{
 "cells": [
  {
   "cell_type": "markdown",
   "id": "e7ab5a5a-8a45-473b-9290-bb39bd5c388f",
   "metadata": {},
   "source": [
    "# pandas fast tutorial"
   ]
  },
  {
   "cell_type": "code",
   "execution_count": 2,
   "id": "a4b14a18-d483-405d-8941-6e909d104398",
   "metadata": {},
   "outputs": [],
   "source": [
    "import pandas as pd\n",
    "import numpy as np"
   ]
  },
  {
   "cell_type": "code",
   "execution_count": 15,
   "id": "a92a0bd3-cdd7-4362-b40f-dda978dfb7da",
   "metadata": {},
   "outputs": [
    {
     "name": "stdout",
     "output_type": "stream",
     "text": [
      "0    1\n",
      "1    2\n",
      "2    3\n",
      "3    4\n",
      "dtype: int64\n",
      "a    1\n",
      "b    1\n",
      "c    1\n",
      "dtype: int64\n",
      "0    1\n",
      "1    2\n",
      "2    3\n",
      "3    4\n",
      "4    5\n",
      "dtype: int64\n"
     ]
    }
   ],
   "source": [
    "l = list(range(1,5))\n",
    "d = dict.fromkeys([\"a\", \"b\", \"c\"], 1)\n",
    "arr = np.arange(1, 6)\n",
    "print(pd.Series(l))\n",
    "print(pd.Series(d))\n",
    "print(pd.Series(arr))"
   ]
  },
  {
   "cell_type": "code",
   "execution_count": null,
   "id": "e5922972-c407-4484-9406-13eba4224705",
   "metadata": {},
   "outputs": [],
   "source": [
    "s1 = pd.Series(l, [\"t\"]*len(l))\n",
    "s2 = pd.Series(l)\n",
    "print(s1[\"t\"])\n",
    "print(s2[0])\n",
    "print(s2[2:])"
   ]
  },
  {
   "cell_type": "code",
   "execution_count": 31,
   "id": "bd0d16f8-cd46-4a3c-89d0-2e84abf280ac",
   "metadata": {},
   "outputs": [
    {
     "name": "stdout",
     "output_type": "stream",
     "text": [
      "   name  age  isworkig\n",
      "0  pupa   10      True\n",
      "1  lupa   20     False\n"
     ]
    },
    {
     "data": {
      "text/html": [
       "<div>\n",
       "<style scoped>\n",
       "    .dataframe tbody tr th:only-of-type {\n",
       "        vertical-align: middle;\n",
       "    }\n",
       "\n",
       "    .dataframe tbody tr th {\n",
       "        vertical-align: top;\n",
       "    }\n",
       "\n",
       "    .dataframe thead th {\n",
       "        text-align: right;\n",
       "    }\n",
       "</style>\n",
       "<table border=\"1\" class=\"dataframe\">\n",
       "  <thead>\n",
       "    <tr style=\"text-align: right;\">\n",
       "      <th></th>\n",
       "      <th>name</th>\n",
       "      <th>age</th>\n",
       "      <th>isworking</th>\n",
       "    </tr>\n",
       "  </thead>\n",
       "  <tbody>\n",
       "    <tr>\n",
       "      <th>0</th>\n",
       "      <td>pupa</td>\n",
       "      <td>10</td>\n",
       "      <td>False</td>\n",
       "    </tr>\n",
       "    <tr>\n",
       "      <th>1</th>\n",
       "      <td>lupa</td>\n",
       "      <td>20</td>\n",
       "      <td>True</td>\n",
       "    </tr>\n",
       "  </tbody>\n",
       "</table>\n",
       "</div>"
      ],
      "text/plain": [
       "   name  age  isworking\n",
       "0  pupa   10      False\n",
       "1  lupa   20       True"
      ]
     },
     "execution_count": 31,
     "metadata": {},
     "output_type": "execute_result"
    }
   ],
   "source": [
    "df = pd.DataFrame()\n",
    "df[\"name\"] = [\"pupa\", \"lupa\"]\n",
    "df[\"age\"] = [10, 20]\n",
    "df[\"isworkig\"] = [True, False]\n",
    "print(df)\n",
    "# alternative\n",
    "humans = pd.DataFrame(data=[[\"pupa\", 10, False], [\"lupa\", 20, True]], columns=[\"name\", \"age\", \"isworking\"])                                                                              \n",
    "humans"
   ]
  },
  {
   "cell_type": "code",
   "execution_count": 36,
   "id": "ce55c48f-492c-424b-b08e-5817ac998df7",
   "metadata": {},
   "outputs": [
    {
     "name": "stdout",
     "output_type": "stream",
     "text": [
      "                                            Name PClass    Age     Sex  \\\n",
      "0                   Allen, Miss Elisabeth Walton    1st  29.00  female   \n",
      "1                    Allison, Miss Helen Loraine    1st   2.00  female   \n",
      "2            Allison, Mr Hudson Joshua Creighton    1st  30.00    male   \n",
      "3  Allison, Mrs Hudson JC (Bessie Waldo Daniels)    1st  25.00  female   \n",
      "4                  Allison, Master Hudson Trevor    1st   0.92    male   \n",
      "\n",
      "   Survived  SexCode  \n",
      "0         1        1  \n",
      "1         0        1  \n",
      "2         0        0  \n",
      "3         0        1  \n",
      "4         1        0  \n",
      "                  Name PClass   Age   Sex  Survived  SexCode\n",
      "1310  Zenni, Mr Philip    3rd  22.0  male         0        0\n",
      "1311  Lievens, Mr Rene    3rd  24.0  male         0        0\n",
      "1312    Zimmerman, Leo    3rd  29.0  male         0        0\n",
      "(1313, 6)\n",
      "              Age     Survived      SexCode\n",
      "count  756.000000  1313.000000  1313.000000\n",
      "mean    30.397989     0.342727     0.351866\n",
      "std     14.259049     0.474802     0.477734\n",
      "min      0.170000     0.000000     0.000000\n",
      "25%     21.000000     0.000000     0.000000\n",
      "50%     28.000000     0.000000     0.000000\n",
      "75%     39.000000     1.000000     1.000000\n",
      "max     71.000000     1.000000     1.000000\n"
     ]
    }
   ],
   "source": [
    "url = \"https://raw.githubusercontent.com/chrisalbon/simulated_datasets/master/titanic.csv\"\n",
    "df = pd.read_csv(url)\n",
    "print(df.head(5)) # first 5\n",
    "print(df.tail(3)) # last 3 \n",
    "print(df.shape) # rows and columns \n",
    "print(df.describe()) # statistic"
   ]
  },
  {
   "cell_type": "code",
   "execution_count": 40,
   "id": "1da024b2-fb83-4d11-9e60-3ae257671529",
   "metadata": {},
   "outputs": [
    {
     "data": {
      "text/html": [
       "<div>\n",
       "<style scoped>\n",
       "    .dataframe tbody tr th:only-of-type {\n",
       "        vertical-align: middle;\n",
       "    }\n",
       "\n",
       "    .dataframe tbody tr th {\n",
       "        vertical-align: top;\n",
       "    }\n",
       "\n",
       "    .dataframe thead th {\n",
       "        text-align: right;\n",
       "    }\n",
       "</style>\n",
       "<table border=\"1\" class=\"dataframe\">\n",
       "  <thead>\n",
       "    <tr style=\"text-align: right;\">\n",
       "      <th></th>\n",
       "      <th>Name</th>\n",
       "      <th>PClass</th>\n",
       "      <th>Age</th>\n",
       "      <th>Sex</th>\n",
       "      <th>Survived</th>\n",
       "      <th>SexCode</th>\n",
       "    </tr>\n",
       "  </thead>\n",
       "  <tbody>\n",
       "    <tr>\n",
       "      <th>3</th>\n",
       "      <td>Allison, Mrs Hudson JC (Bessie Waldo Daniels)</td>\n",
       "      <td>1st</td>\n",
       "      <td>25.00</td>\n",
       "      <td>female</td>\n",
       "      <td>0</td>\n",
       "      <td>1</td>\n",
       "    </tr>\n",
       "    <tr>\n",
       "      <th>4</th>\n",
       "      <td>Allison, Master Hudson Trevor</td>\n",
       "      <td>1st</td>\n",
       "      <td>0.92</td>\n",
       "      <td>male</td>\n",
       "      <td>1</td>\n",
       "      <td>0</td>\n",
       "    </tr>\n",
       "  </tbody>\n",
       "</table>\n",
       "</div>"
      ],
      "text/plain": [
       "                                            Name PClass    Age     Sex  \\\n",
       "3  Allison, Mrs Hudson JC (Bessie Waldo Daniels)    1st  25.00  female   \n",
       "4                  Allison, Master Hudson Trevor    1st   0.92    male   \n",
       "\n",
       "   Survived  SexCode  \n",
       "3         0        1  \n",
       "4         1        0  "
      ]
     },
     "execution_count": 40,
     "metadata": {},
     "output_type": "execute_result"
    }
   ],
   "source": [
    "df.iloc[3:5]"
   ]
  },
  {
   "cell_type": "code",
   "execution_count": 41,
   "id": "a40e9274-4cc1-44f8-bfac-24e8bf74c079",
   "metadata": {},
   "outputs": [
    {
     "data": {
      "text/html": [
       "<div>\n",
       "<style scoped>\n",
       "    .dataframe tbody tr th:only-of-type {\n",
       "        vertical-align: middle;\n",
       "    }\n",
       "\n",
       "    .dataframe tbody tr th {\n",
       "        vertical-align: top;\n",
       "    }\n",
       "\n",
       "    .dataframe thead th {\n",
       "        text-align: right;\n",
       "    }\n",
       "</style>\n",
       "<table border=\"1\" class=\"dataframe\">\n",
       "  <thead>\n",
       "    <tr style=\"text-align: right;\">\n",
       "      <th></th>\n",
       "      <th>Name</th>\n",
       "      <th>PClass</th>\n",
       "      <th>Age</th>\n",
       "      <th>Sex</th>\n",
       "      <th>Survived</th>\n",
       "      <th>SexCode</th>\n",
       "    </tr>\n",
       "  </thead>\n",
       "  <tbody>\n",
       "    <tr>\n",
       "      <th>0</th>\n",
       "      <td>Allen, Miss Elisabeth Walton</td>\n",
       "      <td>1st</td>\n",
       "      <td>29.0</td>\n",
       "      <td>female</td>\n",
       "      <td>1</td>\n",
       "      <td>1</td>\n",
       "    </tr>\n",
       "    <tr>\n",
       "      <th>1</th>\n",
       "      <td>Allison, Miss Helen Loraine</td>\n",
       "      <td>1st</td>\n",
       "      <td>2.0</td>\n",
       "      <td>female</td>\n",
       "      <td>0</td>\n",
       "      <td>1</td>\n",
       "    </tr>\n",
       "  </tbody>\n",
       "</table>\n",
       "</div>"
      ],
      "text/plain": [
       "                           Name PClass   Age     Sex  Survived  SexCode\n",
       "0  Allen, Miss Elisabeth Walton    1st  29.0  female         1        1\n",
       "1   Allison, Miss Helen Loraine    1st   2.0  female         0        1"
      ]
     },
     "execution_count": 41,
     "metadata": {},
     "output_type": "execute_result"
    }
   ],
   "source": [
    "df[df[\"PClass\"] == \"1st\"].head(2)"
   ]
  },
  {
   "cell_type": "code",
   "execution_count": 57,
   "id": "b4a20cf4-2d9e-406b-b2c7-ceb78d411f82",
   "metadata": {},
   "outputs": [
    {
     "name": "stdout",
     "output_type": "stream",
     "text": [
      "0    1\n",
      "1    1\n",
      "2    1\n",
      "3    1\n",
      "dtype: int64\n",
      "0    1\n",
      "1    1\n",
      "2    1\n",
      "3    1\n",
      "dtype: int64\n",
      "4\n",
      "2.0\n"
     ]
    },
    {
     "data": {
      "text/plain": [
       "2.0"
      ]
     },
     "execution_count": 57,
     "metadata": {},
     "output_type": "execute_result"
    }
   ],
   "source": [
    "# 2.3.1\n",
    "# найти евклидово растроение между 2 Series (точками) a and b\n",
    "a = pd.Series([2, 4, 6, 8])\n",
    "b = pd.Series([1, 3, 5, 7])\n",
    "diff = a-b\n",
    "print(diff)\n",
    "print(diff**2)\n",
    "print(sum(diff**2))\n",
    "print(sum(diff**2)**.5)\n",
    "res = sum(diff**2)**0.5\n",
    "res\n",
    "# print(np.linalg.norm(a-b))"
   ]
  },
  {
   "cell_type": "code",
   "execution_count": 61,
   "id": "bd906d31-8ae2-49b7-96e6-53f9e8e71ea2",
   "metadata": {},
   "outputs": [
    {
     "name": "stdout",
     "output_type": "stream",
     "text": [
      "   age         workclass  education_num      marital_status  \\\n",
      "0   39         State-gov             13       Never-married   \n",
      "1   50  Self-emp-not-inc             13  Married-civ-spouse   \n",
      "2   38           Private              9            Divorced   \n",
      "3   53           Private              7  Married-civ-spouse   \n",
      "4   28           Private             13  Married-civ-spouse   \n",
      "\n",
      "          occupation   relationship   race  gender  hours_per_week  \\\n",
      "0       Adm-clerical  Not-in-family  White    Male              40   \n",
      "1    Exec-managerial        Husband  White    Male              13   \n",
      "2  Handlers-cleaners  Not-in-family  White    Male              40   \n",
      "3  Handlers-cleaners        Husband  Other    Male              40   \n",
      "4     Prof-specialty           Wife  Other  Female              40   \n",
      "\n",
      "  native_country  capital income_status  \n",
      "0  United-States     2174         <=50K  \n",
      "1  United-States        0         <=50K  \n",
      "2  United-States        0         <=50K  \n",
      "3  United-States        0         <=50K  \n",
      "4          Other        0         <=50K  \n",
      "       age     workclass  education_num      marital_status       occupation  \\\n",
      "45219   38       Private             13  Married-civ-spouse   Prof-specialty   \n",
      "45220   44       Private             13            Divorced     Adm-clerical   \n",
      "45221   35  Self-emp-inc             13  Married-civ-spouse  Exec-managerial   \n",
      "\n",
      "      relationship   race gender  hours_per_week native_country  capital  \\\n",
      "45219      Husband  White   Male              50  United-States        0   \n",
      "45220    Own-child  Other   Male              40  United-States     5455   \n",
      "45221      Husband  White   Male              60  United-States        0   \n",
      "\n",
      "      income_status  \n",
      "45219         <=50K  \n",
      "45220         <=50K  \n",
      "45221          >50K  \n",
      "(45222, 12)\n",
      "                age  education_num  hours_per_week       capital\n",
      "count  45222.000000   45222.000000    45222.000000  45222.000000\n",
      "mean      38.547941      10.118460       40.938017   1012.834925\n",
      "std       13.217870       2.552881       12.007508   7530.315380\n",
      "min       17.000000       1.000000        1.000000  -4356.000000\n",
      "25%       28.000000       9.000000       40.000000      0.000000\n",
      "50%       37.000000      10.000000       40.000000      0.000000\n",
      "75%       47.000000      13.000000       45.000000      0.000000\n",
      "max       90.000000      16.000000       99.000000  99999.000000\n"
     ]
    }
   ],
   "source": [
    "# 2.3.2 + 2.3.3\n",
    "url = \"https://raw.githubusercontent.com/akmand/datasets/main/adult.csv\"\n",
    "df = pd.read_csv(url)\n",
    "print(df.head(5)) # first 5\n",
    "print(df.tail(3)) # last 3 \n",
    "print(df.shape) # rows and columns \n",
    "print(df.describe()) # statistic"
   ]
  }
 ],
 "metadata": {
  "kernelspec": {
   "display_name": "Python 3 (ipykernel)",
   "language": "python",
   "name": "python3"
  },
  "language_info": {
   "codemirror_mode": {
    "name": "ipython",
    "version": 3
   },
   "file_extension": ".py",
   "mimetype": "text/x-python",
   "name": "python",
   "nbconvert_exporter": "python",
   "pygments_lexer": "ipython3",
   "version": "3.10.12"
  }
 },
 "nbformat": 4,
 "nbformat_minor": 5
}

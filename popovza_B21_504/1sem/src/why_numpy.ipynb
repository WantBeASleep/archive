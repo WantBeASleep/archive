{
 "cells": [
  {
   "cell_type": "markdown",
   "id": "905569ee-ed09-4b9f-9e6b-e8b6112e22be",
   "metadata": {},
   "source": [
    "## Почему NumPy "
   ]
  },
  {
   "cell_type": "code",
   "execution_count": 2,
   "id": "d97c7996-8448-43c8-872b-7c54277a32df",
   "metadata": {},
   "outputs": [
    {
     "name": "stdout",
     "output_type": "stream",
     "text": [
      "Python list took 0.043932199478149414 seconds\n",
      "NumPy array took 0.0006036758422851562 seconds\n"
     ]
    }
   ],
   "source": [
    "import numpy as np\n",
    "import time\n",
    "\n",
    "# Создаем большой список и NumPy массив\n",
    "python_list = list(range(1000000))\n",
    "numpy_array = np.array(python_list)"
   ]
  },
  {
   "cell_type": "code",
   "execution_count": 3,
   "id": "f0d11105",
   "metadata": {},
   "outputs": [
    {
     "name": "stdout",
     "output_type": "stream",
     "text": [
      "Python list took 0.04289579391479492 seconds\n"
     ]
    }
   ],
   "source": [
    "# Время выполнения сложения для списка Python\n",
    "start_time = time.time()\n",
    "python_list = [i + 1 for i in python_list]\n",
    "print(\"Python list took {} seconds\".format(time.time() - start_time))"
   ]
  },
  {
   "cell_type": "code",
   "execution_count": 4,
   "id": "620f06e8",
   "metadata": {},
   "outputs": [
    {
     "name": "stdout",
     "output_type": "stream",
     "text": [
      "NumPy array took 0.0004820823669433594 seconds\n"
     ]
    }
   ],
   "source": [
    "\n",
    "# Время выполнения сложения для NumPy массива\n",
    "start_time = time.time()\n",
    "numpy_array += 1\n",
    "print(\"NumPy array took {} seconds\".format(time.time() - start_time))"
   ]
  },
  {
   "cell_type": "code",
   "execution_count": 5,
   "id": "eeb9c7fc",
   "metadata": {},
   "outputs": [
    {
     "name": "stdout",
     "output_type": "stream",
     "text": [
      "Python list took 0.32909467500576284 seconds\n",
      "NumPy array took 0.0016177240031538531 seconds\n"
     ]
    }
   ],
   "source": [
    "import timeit\n",
    "python_list_time = timeit.timeit('python_list = [i + 1 for i in python_list]', \n",
    "                                 setup='python_list = list(range(1000000))', \n",
    "                                 number=10)\n",
    "\n",
    "# Код для замера времени выполнения инкремента элементов NumPy массива\n",
    "numpy_array_time = timeit.timeit('numpy_array += 1', \n",
    "                                 setup='import numpy as np; numpy_array = np.array(range(1000000))', \n",
    "                                 number=10)\n",
    "\n",
    "print(f\"Python list took {python_list_time} seconds\")\n",
    "print(f\"NumPy array took {numpy_array_time} seconds\")"
   ]
  },
  {
   "cell_type": "code",
   "execution_count": null,
   "id": "1fcc19a8",
   "metadata": {},
   "outputs": [],
   "source": []
  }
 ],
 "metadata": {
  "kernelspec": {
   "display_name": "Python 3 (ipykernel)",
   "language": "python",
   "name": "python3"
  },
  "language_info": {
   "codemirror_mode": {
    "name": "ipython",
    "version": 3
   },
   "file_extension": ".py",
   "mimetype": "text/x-python",
   "name": "python",
   "nbconvert_exporter": "python",
   "pygments_lexer": "ipython3",
   "version": "3.9.2"
  }
 },
 "nbformat": 4,
 "nbformat_minor": 5
}
